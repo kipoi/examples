{
 "cells": [
  {
   "cell_type": "markdown",
   "metadata": {},
   "source": [
    "### Variant effect predictions in from python"
   ]
  },
  {
   "cell_type": "markdown",
   "metadata": {},
   "source": [
    "Main function for variants effect predictions is `score_variants`:"
   ]
  },
  {
   "cell_type": "code",
   "execution_count": 1,
   "metadata": {},
   "outputs": [],
   "source": [
    "import kipoi_veff.snv_predict as sp\n",
    "import os"
   ]
  },
  {
   "cell_type": "code",
   "execution_count": 2,
   "metadata": {},
   "outputs": [
    {
     "data": {
      "text/plain": [
       "\u001b[0;31mSignature:\u001b[0m \u001b[0msp\u001b[0m\u001b[0;34m.\u001b[0m\u001b[0mscore_variants\u001b[0m\u001b[0;34m(\u001b[0m\u001b[0mmodel\u001b[0m\u001b[0;34m,\u001b[0m \u001b[0mdl_args\u001b[0m\u001b[0;34m,\u001b[0m \u001b[0minput_vcf\u001b[0m\u001b[0;34m,\u001b[0m \u001b[0moutput_vcf\u001b[0m\u001b[0;34m=\u001b[0m\u001b[0;32mNone\u001b[0m\u001b[0;34m,\u001b[0m \u001b[0moutput_writers\u001b[0m\u001b[0;34m=\u001b[0m\u001b[0;32mNone\u001b[0m\u001b[0;34m,\u001b[0m \u001b[0mscores\u001b[0m\u001b[0;34m=\u001b[0m\u001b[0;34m[\u001b[0m\u001b[0;34m'logit_ref'\u001b[0m\u001b[0;34m,\u001b[0m \u001b[0;34m'logit_alt'\u001b[0m\u001b[0;34m,\u001b[0m \u001b[0;34m'ref'\u001b[0m\u001b[0;34m,\u001b[0m \u001b[0;34m'alt'\u001b[0m\u001b[0;34m,\u001b[0m \u001b[0;34m'logit'\u001b[0m\u001b[0;34m,\u001b[0m \u001b[0;34m'diff'\u001b[0m\u001b[0;34m]\u001b[0m\u001b[0;34m,\u001b[0m \u001b[0mscore_kwargs\u001b[0m\u001b[0;34m=\u001b[0m\u001b[0;32mNone\u001b[0m\u001b[0;34m,\u001b[0m \u001b[0mnum_workers\u001b[0m\u001b[0;34m=\u001b[0m\u001b[0;36m0\u001b[0m\u001b[0;34m,\u001b[0m \u001b[0mbatch_size\u001b[0m\u001b[0;34m=\u001b[0m\u001b[0;36m32\u001b[0m\u001b[0;34m,\u001b[0m \u001b[0msource\u001b[0m\u001b[0;34m=\u001b[0m\u001b[0;34m'kipoi'\u001b[0m\u001b[0;34m,\u001b[0m \u001b[0mseq_length\u001b[0m\u001b[0;34m=\u001b[0m\u001b[0;32mNone\u001b[0m\u001b[0;34m,\u001b[0m \u001b[0mstd_var_id\u001b[0m\u001b[0;34m=\u001b[0m\u001b[0;32mFalse\u001b[0m\u001b[0;34m,\u001b[0m \u001b[0mrestriction_bed\u001b[0m\u001b[0;34m=\u001b[0m\u001b[0;32mNone\u001b[0m\u001b[0;34m,\u001b[0m \u001b[0mreturn_predictions\u001b[0m\u001b[0;34m=\u001b[0m\u001b[0;32mFalse\u001b[0m\u001b[0;34m,\u001b[0m \u001b[0mmodel_outputs\u001b[0m\u001b[0;34m=\u001b[0m\u001b[0;32mNone\u001b[0m\u001b[0;34m)\u001b[0m\u001b[0;34m\u001b[0m\u001b[0m\n",
       "\u001b[0;31mDocstring:\u001b[0m\n",
       "Score variants: annotate the vcf file using model predictions for the reference and alternative alleles\n",
       "\n",
       "The functional elements that generate a score from a set of predictions for reference and\n",
       "alternative allele are defined in the `scores` argument.\n",
       "\n",
       "This function is the python version of the command-line call `score_variants` and is a convenience version\n",
       "of the `predict_snvs` function:\n",
       "\n",
       "Prediction of effects of SNV based on a VCF. If desired the VCF can be stored with the predicted values as\n",
       "annotation. For a detailed description of the requirements in the yaml files please take a look at\n",
       "the core `kipoi` documentation on how to write a `dataloader.yaml` file or at the documentation of\n",
       "`kipoi-veff` in the section: `overview/#model-and-dataloader-requirements`.\n",
       "\n",
       "\n",
       "# Arguments\n",
       "    model: model string or a model class instance\n",
       "    dl_args: dataloader arguments as a dictionary\n",
       "    input_vcf: input vcf file path\n",
       "    output_vcf: output vcf file path\n",
       "    output_writers: output writers a list of used output writers\n",
       "    scores: list of score names to compute. See `kipoi_veff.scores`\n",
       "    score_kwargs: optional, list of kwargs that corresponds to the entries in score.\n",
       "    num_workers: number of paralell workers to use for dataloading\n",
       "    batch_size: batch_size for dataloading\n",
       "    source: model source name\n",
       "    std_var_id: If true then variant IDs in the annotated VCF will be replaced with a standardised, unique ID.\n",
       "    seq_length: If model accepts variable input sequence length then this value has to be set!\n",
       "    restriction_bed: If dataloader can be run with regions generated from the VCF then only variants that overlap\n",
       "    regions defined in `restriction_bed` will be tested.\n",
       "    return_predictions: return generated predictions also as pandas dataframe.\n",
       "    model_outputs: If set then either a boolean filter or a named filter for model outputs that are reported.\n",
       "\n",
       "# Returns\n",
       "    dict: containing a pandas DataFrame containing the calculated values\n",
       "        for each model output (target) column VCF SNV line. If `return_predictions == False`, returns None.\n",
       "\u001b[0;31mFile:\u001b[0m      ~/bin/anaconda3/envs/kipoi-shared__envs__kipoi-py3-keras2/lib/python3.6/site-packages/kipoi_veff/snv_predict.py\n",
       "\u001b[0;31mType:\u001b[0m      function\n"
      ]
     },
     "metadata": {},
     "output_type": "display_data"
    }
   ],
   "source": [
    "sp.score_variants?"
   ]
  },
  {
   "cell_type": "code",
   "execution_count": 3,
   "metadata": {},
   "outputs": [
    {
     "name": "stdout",
     "output_type": "stream",
     "text": [
      "Using downloaded and verified file: /home/avsec/.kipoi/models/Basset/downloaded/model_files/weights/4878981d84499eb575abd0f3b45570d3\n"
     ]
    },
    {
     "name": "stderr",
     "output_type": "stream",
     "text": [
      "100%|██████████| 19/19 [00:18<00:00,  1.18it/s]\n"
     ]
    }
   ],
   "source": [
    "sp.score_variants(model='Basset',\n",
    "                  dl_args={'fasta_file': 'input/hg19.chr22.fa'},\n",
    "                  input_vcf='input/clinvar_20180429.pathogenic.chr22.vcf.gz',\n",
    "                  output_vcf='/tmp/py-annotated.vcf')"
   ]
  },
  {
   "cell_type": "code",
   "execution_count": 4,
   "metadata": {},
   "outputs": [
    {
     "name": "stdout",
     "output_type": "stream",
     "text": [
      "##fileformat=VCFv4.1\n",
      "##fileDate=2018-04-29\n",
      "##source=ClinVar\n",
      "##reference=GRCh37\n",
      "##ID=<Description=\"ClinVar Variation ID\">\n",
      "##INFO=<ID=AF_ESP,Number=1,Type=Float,Description=\"allele frequencies from GO-ESP\">\n",
      "##INFO=<ID=AF_EXAC,Number=1,Type=Float,Description=\"allele frequencies from ExAC\">\n",
      "##INFO=<ID=AF_TGP,Number=1,Type=Float,Description=\"allele frequencies from TGP\">\n",
      "##INFO=<ID=ALLELEID,Number=1,Type=Integer,Description=\"the ClinVar Allele ID\">\n",
      "##INFO=<ID=CLNDN,Number=.,Type=String,Description=\"ClinVar's preferred disease name for the concept specified by disease identifiers in CLNDISDB\">\n"
     ]
    }
   ],
   "source": [
    "!head /tmp/py-annotated.vcf"
   ]
  },
  {
   "cell_type": "markdown",
   "metadata": {},
   "source": [
    "### Using BatchWriters from Kipoi instead of the VCF output"
   ]
  },
  {
   "cell_type": "code",
   "execution_count": 5,
   "metadata": {},
   "outputs": [],
   "source": [
    "from kipoi_veff.utils.io import SyncBatchWriter\n",
    "from kipoi.writers import HDF5BatchWriter"
   ]
  },
  {
   "cell_type": "markdown",
   "metadata": {},
   "source": [
    "Via SyncBatchWriter you can use the batch writers from Kipoi"
   ]
  },
  {
   "cell_type": "code",
   "execution_count": 6,
   "metadata": {},
   "outputs": [],
   "source": [
    "!rm /tmp/annotated.vcf.h5"
   ]
  },
  {
   "cell_type": "code",
   "execution_count": 7,
   "metadata": {},
   "outputs": [],
   "source": [
    "from tempfile import mkdtemp"
   ]
  },
  {
   "cell_type": "code",
   "execution_count": 8,
   "metadata": {},
   "outputs": [],
   "source": [
    "h5_tmp = os.path.join(mkdtemp(), 'output.h5')"
   ]
  },
  {
   "cell_type": "code",
   "execution_count": 9,
   "metadata": {},
   "outputs": [],
   "source": [
    "writer = SyncBatchWriter(HDF5BatchWriter(h5_tmp))"
   ]
  },
  {
   "cell_type": "code",
   "execution_count": 10,
   "metadata": {},
   "outputs": [
    {
     "name": "stderr",
     "output_type": "stream",
     "text": [
      "  0%|          | 0/19 [00:00<?, ?it/s]"
     ]
    },
    {
     "name": "stdout",
     "output_type": "stream",
     "text": [
      "Using downloaded and verified file: /home/avsec/.kipoi/models/Basset/downloaded/model_files/weights/4878981d84499eb575abd0f3b45570d3\n"
     ]
    },
    {
     "name": "stderr",
     "output_type": "stream",
     "text": [
      "100%|██████████| 19/19 [00:18<00:00,  1.28it/s]\n"
     ]
    }
   ],
   "source": [
    "sp.score_variants(model='Basset',\n",
    "                  dl_args={'fasta_file': 'input/hg19.chr22.fa'},\n",
    "                  input_vcf='input/clinvar_20180429.pathogenic.chr22.vcf.gz',\n",
    "                  output_writers=[writer])"
   ]
  },
  {
   "cell_type": "code",
   "execution_count": 11,
   "metadata": {},
   "outputs": [],
   "source": [
    "from kipoi.readers import HDF5Reader"
   ]
  },
  {
   "cell_type": "code",
   "execution_count": 12,
   "metadata": {},
   "outputs": [],
   "source": [
    "r = HDF5Reader(h5_tmp)\n",
    "r.open()"
   ]
  },
  {
   "cell_type": "code",
   "execution_count": 13,
   "metadata": {},
   "outputs": [
    {
     "data": {
      "text/plain": [
       "[('/line_idx', <HDF5 dataset \"line_idx\": shape (582,), type \"|O\">),\n",
       " ('/preds/alt/8988T', <HDF5 dataset \"8988T\": shape (582,), type \"<f4\">),\n",
       " ('/preds/alt/A549', <HDF5 dataset \"A549\": shape (582,), type \"<f4\">),\n",
       " ('/preds/alt/ADRL_GLND_FET',\n",
       "  <HDF5 dataset \"ADRL_GLND_FET\": shape (582,), type \"<f4\">),\n",
       " ('/preds/alt/AG04449', <HDF5 dataset \"AG04449\": shape (582,), type \"<f4\">),\n",
       " ('/preds/alt/AG04450', <HDF5 dataset \"AG04450\": shape (582,), type \"<f4\">),\n",
       " ('/preds/alt/AG09309', <HDF5 dataset \"AG09309\": shape (582,), type \"<f4\">),\n",
       " ('/preds/alt/AG09319', <HDF5 dataset \"AG09319\": shape (582,), type \"<f4\">),\n",
       " ('/preds/alt/AG10803', <HDF5 dataset \"AG10803\": shape (582,), type \"<f4\">),\n",
       " ('/preds/alt/AoAF', <HDF5 dataset \"AoAF\": shape (582,), type \"<f4\">),\n",
       " ('/preds/alt/AoSMC', <HDF5 dataset \"AoSMC\": shape (582,), type \"<f4\">),\n",
       " ('/preds/alt/BE2_C', <HDF5 dataset \"BE2_C\": shape (582,), type \"<f4\">),\n",
       " ('/preds/alt/BJ', <HDF5 dataset \"BJ\": shape (582,), type \"<f4\">),\n",
       " ('/preds/alt/BLD_CD14_PC',\n",
       "  <HDF5 dataset \"BLD_CD14_PC\": shape (582,), type \"<f4\">),\n",
       " ('/preds/alt/BLD_CD19_PPC',\n",
       "  <HDF5 dataset \"BLD_CD19_PPC\": shape (582,), type \"<f4\">),\n",
       " ('/preds/alt/BLD_CD3_CPC',\n",
       "  <HDF5 dataset \"BLD_CD3_CPC\": shape (582,), type \"<f4\">),\n",
       " ('/preds/alt/BLD_CD3_PPC',\n",
       "  <HDF5 dataset \"BLD_CD3_PPC\": shape (582,), type \"<f4\">),\n",
       " ('/preds/alt/BLD_CD56_PC',\n",
       "  <HDF5 dataset \"BLD_CD56_PC\": shape (582,), type \"<f4\">),\n",
       " ('/preds/alt/BLD_MOB_CD34_PC_F',\n",
       "  <HDF5 dataset \"BLD_MOB_CD34_PC_F\": shape (582,), type \"<f4\">),\n",
       " ('/preds/alt/BLD_MOB_CD34_PC_M',\n",
       "  <HDF5 dataset \"BLD_MOB_CD34_PC_M\": shape (582,), type \"<f4\">)]"
      ]
     },
     "execution_count": 13,
     "metadata": {},
     "output_type": "execute_result"
    }
   ],
   "source": [
    "r.ls()[:20]"
   ]
  },
  {
   "cell_type": "code",
   "execution_count": 14,
   "metadata": {},
   "outputs": [],
   "source": [
    "out = r.load_all()"
   ]
  },
  {
   "cell_type": "code",
   "execution_count": 15,
   "metadata": {},
   "outputs": [
    {
     "data": {
      "text/plain": [
       "array([ 0.0149, -0.0013, -0.0008, -0.0009, -0.0008, -0.0019,  0.0005, -0.0028,  0.0074, -0.0084,\n",
       "        0.0035,  0.0015,  0.0028,  0.0035,  0.0049,  0.0022, -0.0013,  0.0054,  0.0148,  0.0364,\n",
       "       ...,  0.0016, -0.0008,  0.0047,  0.0018,  0.0035,  0.0021,  0.0004,  0.0024, -0.0051,\n",
       "       -0.0229, -0.0108, -0.0122, -0.0045,  0.021 ,  0.0102,  0.0345,  0.0003,  0.0076, -0.0071,\n",
       "        0.0066], dtype=float32)"
      ]
     },
     "execution_count": 15,
     "metadata": {},
     "output_type": "execute_result"
    }
   ],
   "source": [
    "out['preds']['diff']['A549']"
   ]
  }
 ],
 "metadata": {
  "kernelspec": {
   "display_name": "Python [conda env:kipoi-shared__envs__kipoi-py3-keras2]",
   "language": "python",
   "name": "conda-env-kipoi-shared__envs__kipoi-py3-keras2-py"
  },
  "language_info": {
   "codemirror_mode": {
    "name": "ipython",
    "version": 3
   },
   "file_extension": ".py",
   "mimetype": "text/x-python",
   "name": "python",
   "nbconvert_exporter": "python",
   "pygments_lexer": "ipython3",
   "version": "3.6.6"
  }
 },
 "nbformat": 4,
 "nbformat_minor": 2
}
