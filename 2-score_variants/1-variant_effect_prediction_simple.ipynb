{
 "cells": [
  {
   "cell_type": "markdown",
   "metadata": {},
   "source": [
    "## TODO\n",
    "- add proper link to the other variant_effect prediction"
   ]
  },
  {
   "cell_type": "markdown",
   "metadata": {},
   "source": [
    "# Variant effect prediction - simple\n",
    "\n",
    "NOTE: This notebook is a companion notebook to `variant_effect_prediction.ipynb` and shows a simpler way to run variant effect predictions in python. If you want to know more details about variant effect prediction, the details of how to customise things and how to run it on the command line and in batch please refer to the `variant_effect_prediction.ipynb`.\n",
    "\n",
    "Variant effect prediction offers a simple way to predict effects of SNVs using any model that uses DNA sequence as an input. Many different scoring methods can be chosen, but the principle relies on in-silico mutagenesis. The default input is a VCF and the default output again is a VCF annotated with predictions of variant effects. "
   ]
  },
  {
   "cell_type": "markdown",
   "metadata": {},
   "source": [
    "First we set up the model and make sure the requirements are installed in the current environment."
   ]
  },
  {
   "cell_type": "code",
   "execution_count": 1,
   "metadata": {},
   "outputs": [],
   "source": [
    "import kipoi\n",
    "model_name = \"DeepSEA/variantEffects\""
   ]
  },
  {
   "cell_type": "markdown",
   "metadata": {},
   "source": [
    "Then we need to know where the query VCF is located and where we want to store the results."
   ]
  },
  {
   "cell_type": "code",
   "execution_count": 2,
   "metadata": {},
   "outputs": [],
   "source": [
    "# The input vcf path\n",
    "vcf_path = \"example_data/clinvar_donor_acceptor_chr22.vcf\"\n",
    "# The output vcf path, based on the input file name    \n",
    "out_vcf_fpath = vcf_path[:-4] + \"%s.vcf\"%model_name.replace(\"/\", \"_\")"
   ]
  },
  {
   "cell_type": "markdown",
   "metadata": {},
   "source": [
    "Finally the dataloader arguments are set that are required to run the dataloader. Here we omit the `intervals_file` argument of the dataloader, because that has been tagged as bed file input in the `dataloader.yaml` file, which means that `score_variants` will automatically populate that argument with a temporary bed file that is generated from the VCF in order to query every variant contained in the input VCF. (\"Variant-centered approach\")"
   ]
  },
  {
   "cell_type": "code",
   "execution_count": 3,
   "metadata": {},
   "outputs": [],
   "source": [
    "# The datalaoder keyword arguments\n",
    "dataloader_arguments = {\"fasta_file\": \"example_data/hg19_chr22.fa\"}"
   ]
  },
  {
   "cell_type": "code",
   "execution_count": 4,
   "metadata": {},
   "outputs": [
    {
     "name": "stdout",
     "output_type": "stream",
     "text": [
      "Basset_grad_query_Basset.bed\n",
      "Basset_grad_query_Basset_out.hdf5\n",
      "Basset_grad_query.bed\n",
      "chr22.101bp.2000_intervals.JUND.HepG2.tsv\n",
      "clinvar_donor_acceptor_annotated_chr22.csv\n",
      "clinvar_donor_acceptor_annotated_w_rbp_chr22.csv\n",
      "clinvar_donor_acceptor_chr22_5vars_mmPlot.png\n",
      "clinvar_donor_acceptor_chr22_5vars_mutmap.hdf5\n",
      "clinvar_donor_acceptor_chr22_5vars.vcf\n",
      "clinvar_donor_acceptor_chr22DeepSEA_variantEffects.vcf\n",
      "clinvar_donor_acceptor_chr22HAL.vcf\n",
      "clinvar_donor_acceptor_chr22labranchor.vcf\n",
      "clinvar_donor_acceptor_chr22MaxEntScan_3prime.vcf\n",
      "clinvar_donor_acceptor_chr22rbp_eclip_AARS.vcf\n",
      "clinvar_donor_acceptor_chr22.vcf\n",
      "clinvar_donor_acceptor_chr22.vcf.gz\n",
      "clinvar_donor_acceptor_chr22.vcf.gz.tbi\n",
      "dbsnp_chr22_29108009.vcf\n",
      "FactorNet_CTCF_grad_query.bed\n",
      "hg19_chr22.fa\n",
      "hg19_chr22.fa.fai\n",
      "Homo_sapiens.GRCh37.75_chr22.gtf\n",
      "Homo_sapiens.GRCh37.75.filtered_chr22.gtf\n",
      "wgEncodeAwgDnaseUwdukeK562UniPk.narrowPeak.gz\n",
      "wgEncodeAwgDnaseUwdukeK562UniPk.narrowPeak.gz.1\n"
     ]
    }
   ],
   "source": [
    "!ls example_data/"
   ]
  },
  {
   "cell_type": "code",
   "execution_count": 5,
   "metadata": {},
   "outputs": [
    {
     "name": "stderr",
     "output_type": "stream",
     "text": [
      "100%|██████████| 14/14 [00:36<00:00,  2.59s/it]\n"
     ]
    }
   ],
   "source": [
    "import kipoi_veff.snv_predict as sp\n",
    "sp.score_variants(model = model_name,\n",
    "                  dl_args = dataloader_arguments,\n",
    "                  input_vcf = vcf_path,\n",
    "                  output_vcf = out_vcf_fpath)"
   ]
  },
  {
   "cell_type": "markdown",
   "metadata": {},
   "source": [
    "Now we can have a look at the generated output:"
   ]
  },
  {
   "cell_type": "code",
   "execution_count": 6,
   "metadata": {},
   "outputs": [
    {
     "name": "stdout",
     "output_type": "stream",
     "text": [
      "##fileformat=VCFv4.0\n",
      "##INFO=<ID=KV:kipoi:DeepSEA/variantEffects:LOGIT_REF,Number=.,Type=String,Descri...\n",
      "##INFO=<ID=KV:kipoi:DeepSEA/variantEffects:LOGIT_ALT,Number=.,Type=String,Descri...\n",
      "##INFO=<ID=KV:kipoi:DeepSEA/variantEffects:REF,Number=.,Type=String,Description=...\n",
      "##INFO=<ID=KV:kipoi:DeepSEA/variantEffects:ALT,Number=.,Type=String,Description=...\n",
      "##INFO=<ID=KV:kipoi:DeepSEA/variantEffects:LOGIT,Number=.,Type=String,Descriptio...\n",
      "##INFO=<ID=KV:kipoi:DeepSEA/variantEffects:DIFF,Number=.,Type=String,Description...\n",
      "##INFO=<ID=KV:kipoi:DeepSEA/variantEffects:rID,Number=.,Type=String,Description=...\n",
      "##FILTER=<ID=PASS,Description=\"All filters passed\">\n",
      "##contig=<ID=chr1,length=249250621>\n",
      "##contig=<ID=chr2,length=243199373>\n",
      "##contig=<ID=chr3,length=198022430>\n",
      "##contig=<ID=chr4,length=191154276>\n",
      "##contig=<ID=chr5,length=180915260>\n",
      "##contig=<ID=chr6,length=171115067>\n",
      "##contig=<ID=chr7,length=159138663>\n",
      "##contig=<ID=chr8,length=146364022>\n",
      "##contig=<ID=chr9,length=141213431>\n",
      "##contig=<ID=chr10,length=135534747>\n",
      "##contig=<ID=chr11,length=135006516>\n",
      "##contig=<ID=chr12,length=133851895>\n",
      "##contig=<ID=chr13,length=115169878>\n",
      "##contig=<ID=chr14,length=107349540>\n",
      "##contig=<ID=chr15,length=102531392>\n",
      "##contig=<ID=chr16,length=90354753>\n",
      "##contig=<ID=chr17,length=81195210>\n",
      "##contig=<ID=chr18,length=78077248>\n",
      "##contig=<ID=chr19,length=59128983>\n",
      "##contig=<ID=chr20,length=63025520>\n",
      "##contig=<ID=chr21,length=48129895>\n",
      "##contig=<ID=chr22,length=51304566>\n",
      "##contig=<ID=chrX,length=155270560>\n",
      "##contig=<ID=chrY,length=59373566>\n",
      "##contig=<ID=chrMT,length=16569>\n",
      "#CHROM\tPOS\tID\tREF\tALT\tQUAL\tFILTER\tINFO\n",
      "chr22\t17585619\t12730\tC\tT\t.\t.\tKV:kipoi:DeepSEA/variantEffects:LOGIT_REF=-2.080820...\n",
      "chr22\t17669232\t7178\tT\tC\t.\t.\tKV:kipoi:DeepSEA/variantEffects:LOGIT_REF=-3.0953381...\n",
      "chr22\t17684454\t4461\tG\tA\t.\t.\tKV:kipoi:DeepSEA/variantEffects:LOGIT_REF=-2.6720218...\n",
      "chr22\t17688177\t16244\tG\tT\t.\t.\tKV:kipoi:DeepSEA/variantEffects:LOGIT_REF=-2.942018...\n",
      "chr22\t18561370\t7302\tC\tT\t.\t.\tKV:kipoi:DeepSEA/variantEffects:LOGIT_REF=-1.4785162...\n",
      "chr22\t18561373\t177\tG\tT\t.\t.\tKV:kipoi:DeepSEA/variantEffects:LOGIT_REF=-1.42152655...\n"
     ]
    }
   ],
   "source": [
    "# Let's print out the first 40 lines of the annotated VCF (up to 80 characters per line maximum)\n",
    "with open(\"example_data/clinvar_donor_acceptor_chr22DeepSEA_variantEffects.vcf\") as ifh:\n",
    "    for i,l in enumerate(ifh):\n",
    "        long_line = \"\"\n",
    "        if len(l)>80:\n",
    "            long_line = \"...\"\n",
    "        print(l[:80].rstrip() +long_line)\n",
    "        if i >=40:\n",
    "            break"
   ]
  },
  {
   "cell_type": "markdown",
   "metadata": {},
   "source": [
    "Here we have shown a simpler function `score_variants` that covers most use-cases for variant effect prediction. For a more fine-grain control please use `predict_snvs` and take a look at the `variant_effect_prediction.ipynb` notebook. \n",
    "\n",
    "An important thing to remember when using `score_variants` or the command-line interface is that for all dataloaders that support bed-file inputs, the bed file generation will be used and only model that do not have the `postprocessing > variant_effects > bed_input` field set in `dataloader.yaml` will be executed in overlap-based mode. For details on how variant region overlap works please take a look at the variant effect prediction documentation. "
   ]
  },
  {
   "cell_type": "markdown",
   "metadata": {},
   "source": [
    "## TODO - add the CLI interface"
   ]
  }
 ],
 "metadata": {
  "kernelspec": {
   "display_name": "Python [default]",
   "language": "python",
   "name": "python3"
  },
  "language_info": {
   "codemirror_mode": {
    "name": "ipython",
    "version": 3
   },
   "file_extension": ".py",
   "mimetype": "text/x-python",
   "name": "python",
   "nbconvert_exporter": "python",
   "pygments_lexer": "ipython3",
   "version": "3.6.1"
  }
 },
 "nbformat": 4,
 "nbformat_minor": 2
}
