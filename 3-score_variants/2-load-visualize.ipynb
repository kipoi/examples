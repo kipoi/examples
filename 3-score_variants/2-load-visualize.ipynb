{
 "cells": [
  {
   "cell_type": "markdown",
   "metadata": {},
   "source": [
    "## Prerequisite\n",
    "\n",
    "Make sure you ran `snakemake` in this directory and have obtained all the files (stored under `output/`)."
   ]
  },
  {
   "cell_type": "markdown",
   "metadata": {},
   "source": [
    "## Load and visualize the predictions"
   ]
  },
  {
   "cell_type": "code",
   "execution_count": 53,
   "metadata": {},
   "outputs": [],
   "source": [
    "# Gloal \n",
    "models = ['rbp']"
   ]
  },
  {
   "cell_type": "markdown",
   "metadata": {},
   "source": [
    "### Loading predictions from the tsv output"
   ]
  },
  {
   "cell_type": "code",
   "execution_count": 54,
   "metadata": {},
   "outputs": [],
   "source": [
    "import kipoi\n",
    "import seaborn as sns\n",
    "import pandas as pd"
   ]
  },
  {
   "cell_type": "code",
   "execution_count": 55,
   "metadata": {},
   "outputs": [],
   "source": [
    "merge_cols = ['variant_chr', 'variant_pos', 'variant_ref', 'variant_alt', 'variant_id', 'line_idx', 'vcf_set']"
   ]
  },
  {
   "cell_type": "code",
   "execution_count": 56,
   "metadata": {},
   "outputs": [],
   "source": [
    "def read_preds_tsv(model, vcf_set, output_dir):\n",
    "    df = pd.read_table(\"{}/{}/{}.tsv\".format(output_dir, vcf_set, model))\n",
    "    df['vcf_set'] = vcf_set\n",
    "    df.set_index(merge_cols, inplace=True)\n",
    "    assert df.columns.str.startswith(\"preds\").all()\n",
    "    \n",
    "    # TODO - update\n",
    "    df.columns = df.columns.str.replace(\"preds\", model)\n",
    "    \n",
    "    if len(df.columns) > 1:\n",
    "        # multi-task model\n",
    "        try:\n",
    "            descr = kipoi.get_model_descr(model)\n",
    "            df.columns = model + \"/\" + pd.Series(descr.schema.targets.column_labels)\n",
    "        except:\n",
    "            pass\n",
    "    return df"
   ]
  },
  {
   "cell_type": "code",
   "execution_count": 57,
   "metadata": {},
   "outputs": [],
   "source": [
    "df = pd.concat([read_preds_tsv(m, vcf_set='variants', output_dir='output') for m in models], axis=1)"
   ]
  },
  {
   "cell_type": "code",
   "execution_count": 58,
   "metadata": {},
   "outputs": [
    {
     "data": {
      "text/html": [
       "<div>\n",
       "<style scoped>\n",
       "    .dataframe tbody tr th:only-of-type {\n",
       "        vertical-align: middle;\n",
       "    }\n",
       "\n",
       "    .dataframe tbody tr th {\n",
       "        vertical-align: top;\n",
       "    }\n",
       "\n",
       "    .dataframe thead th {\n",
       "        text-align: right;\n",
       "    }\n",
       "</style>\n",
       "<table border=\"1\" class=\"dataframe\">\n",
       "  <thead>\n",
       "    <tr style=\"text-align: right;\">\n",
       "      <th></th>\n",
       "      <th></th>\n",
       "      <th></th>\n",
       "      <th></th>\n",
       "      <th></th>\n",
       "      <th></th>\n",
       "      <th></th>\n",
       "      <th>rbp/alt/rbp_prb</th>\n",
       "      <th>rbp/diff/rbp_prb</th>\n",
       "      <th>rbp/ref/rbp_prb</th>\n",
       "    </tr>\n",
       "    <tr>\n",
       "      <th>variant_chr</th>\n",
       "      <th>variant_pos</th>\n",
       "      <th>variant_ref</th>\n",
       "      <th>variant_alt</th>\n",
       "      <th>variant_id</th>\n",
       "      <th>line_idx</th>\n",
       "      <th>vcf_set</th>\n",
       "      <th></th>\n",
       "      <th></th>\n",
       "      <th></th>\n",
       "    </tr>\n",
       "  </thead>\n",
       "  <tbody>\n",
       "    <tr>\n",
       "      <th rowspan=\"5\" valign=\"top\">chr22</th>\n",
       "      <th>21541590</th>\n",
       "      <th>A</th>\n",
       "      <th>T</th>\n",
       "      <th>rs1111</th>\n",
       "      <th>chr22:21541590:A:['T']</th>\n",
       "      <th>variants</th>\n",
       "      <td>-0.0484</td>\n",
       "      <td>0.0172</td>\n",
       "      <td>-0.0656</td>\n",
       "    </tr>\n",
       "    <tr>\n",
       "      <th>21541952</th>\n",
       "      <th>C</th>\n",
       "      <th>C</th>\n",
       "      <th>rs1112</th>\n",
       "      <th>chr22:21541952:C:['C']</th>\n",
       "      <th>variants</th>\n",
       "      <td>-0.0284</td>\n",
       "      <td>0.0000</td>\n",
       "      <td>-0.0284</td>\n",
       "    </tr>\n",
       "    <tr>\n",
       "      <th>30630220</th>\n",
       "      <th>T</th>\n",
       "      <th>G</th>\n",
       "      <th>rs1113</th>\n",
       "      <th>chr22:30630220:T:['G']</th>\n",
       "      <th>variants</th>\n",
       "      <td>0.1119</td>\n",
       "      <td>0.0179</td>\n",
       "      <td>0.0940</td>\n",
       "    </tr>\n",
       "    <tr>\n",
       "      <th>30630701</th>\n",
       "      <th>A</th>\n",
       "      <th>G</th>\n",
       "      <th>rs1114</th>\n",
       "      <th>chr22:30630701:A:['G']</th>\n",
       "      <th>variants</th>\n",
       "      <td>-0.2984</td>\n",
       "      <td>0.0322</td>\n",
       "      <td>-0.3305</td>\n",
       "    </tr>\n",
       "    <tr>\n",
       "      <th>35503223</th>\n",
       "      <th>C</th>\n",
       "      <th>A</th>\n",
       "      <th>rs1115</th>\n",
       "      <th>chr22:35503223:C:['A']</th>\n",
       "      <th>variants</th>\n",
       "      <td>0.3138</td>\n",
       "      <td>-0.0292</td>\n",
       "      <td>0.3429</td>\n",
       "    </tr>\n",
       "  </tbody>\n",
       "</table>\n",
       "</div>"
      ],
      "text/plain": [
       "                                                                                            rbp/alt/rbp_prb  \\\n",
       "variant_chr variant_pos variant_ref variant_alt variant_id line_idx               vcf_set                     \n",
       "chr22       21541590    A           T           rs1111     chr22:21541590:A:['T'] variants          -0.0484   \n",
       "            21541952    C           C           rs1112     chr22:21541952:C:['C'] variants          -0.0284   \n",
       "            30630220    T           G           rs1113     chr22:30630220:T:['G'] variants           0.1119   \n",
       "            30630701    A           G           rs1114     chr22:30630701:A:['G'] variants          -0.2984   \n",
       "            35503223    C           A           rs1115     chr22:35503223:C:['A'] variants           0.3138   \n",
       "\n",
       "                                                                                            rbp/diff/rbp_prb  \\\n",
       "variant_chr variant_pos variant_ref variant_alt variant_id line_idx               vcf_set                      \n",
       "chr22       21541590    A           T           rs1111     chr22:21541590:A:['T'] variants            0.0172   \n",
       "            21541952    C           C           rs1112     chr22:21541952:C:['C'] variants            0.0000   \n",
       "            30630220    T           G           rs1113     chr22:30630220:T:['G'] variants            0.0179   \n",
       "            30630701    A           G           rs1114     chr22:30630701:A:['G'] variants            0.0322   \n",
       "            35503223    C           A           rs1115     chr22:35503223:C:['A'] variants           -0.0292   \n",
       "\n",
       "                                                                                            rbp/ref/rbp_prb  \n",
       "variant_chr variant_pos variant_ref variant_alt variant_id line_idx               vcf_set                    \n",
       "chr22       21541590    A           T           rs1111     chr22:21541590:A:['T'] variants          -0.0656  \n",
       "            21541952    C           C           rs1112     chr22:21541952:C:['C'] variants          -0.0284  \n",
       "            30630220    T           G           rs1113     chr22:30630220:T:['G'] variants           0.0940  \n",
       "            30630701    A           G           rs1114     chr22:30630701:A:['G'] variants          -0.3305  \n",
       "            35503223    C           A           rs1115     chr22:35503223:C:['A'] variants           0.3429  "
      ]
     },
     "execution_count": 58,
     "metadata": {},
     "output_type": "execute_result"
    }
   ],
   "source": [
    "df.head()"
   ]
  },
  {
   "cell_type": "code",
   "execution_count": 36,
   "metadata": {},
   "outputs": [
    {
     "data": {
      "text/plain": [
       "Text(34,0.5,'Variant')"
      ]
     },
     "execution_count": 36,
     "metadata": {},
     "output_type": "execute_result"
    },
    {
     "data": {
      "image/png": "[encoded data removed]",
      "text/plain": [
       "<Figure size 432x288 with 2 Axes>"
      ]
     },
     "metadata": {},
     "output_type": "display_data"
    }
   ],
   "source": [
    "sns.heatmap(df)\n",
    "plt.ylabel(\"Variant\")"
   ]
  },
  {
   "cell_type": "markdown",
   "metadata": {},
   "source": [
    "### Loading predictions from the hdf5 output"
   ]
  },
  {
   "cell_type": "code",
   "execution_count": 37,
   "metadata": {},
   "outputs": [],
   "source": [
    "from kipoi.readers import HDF5Reader"
   ]
  },
  {
   "cell_type": "markdown",
   "metadata": {},
   "source": [
    "List of entries:"
   ]
  },
  {
   "cell_type": "code",
   "execution_count": 38,
   "metadata": {},
   "outputs": [],
   "source": [
    "f = \"output/variants/rbp.h5\""
   ]
  },
  {
   "cell_type": "code",
   "execution_count": 39,
   "metadata": {},
   "outputs": [],
   "source": [
    "r = HDF5Reader(f)\n",
    "r.open()"
   ]
  },
  {
   "cell_type": "code",
   "execution_count": 40,
   "metadata": {},
   "outputs": [
    {
     "data": {
      "text/plain": [
       "[('/line_idx', <HDF5 dataset \"line_idx\": shape (6,), type \"|O\">),\n",
       " ('/preds/alt/rbp_prb', <HDF5 dataset \"rbp_prb\": shape (6,), type \"<f4\">),\n",
       " ('/preds/diff/rbp_prb', <HDF5 dataset \"rbp_prb\": shape (6,), type \"<f4\">),\n",
       " ('/preds/ref/rbp_prb', <HDF5 dataset \"rbp_prb\": shape (6,), type \"<f4\">),\n",
       " ('/variant_alt', <HDF5 dataset \"variant_alt\": shape (6,), type \"|O\">),\n",
       " ('/variant_chr', <HDF5 dataset \"variant_chr\": shape (6,), type \"|O\">),\n",
       " ('/variant_id', <HDF5 dataset \"variant_id\": shape (6,), type \"|O\">),\n",
       " ('/variant_pos', <HDF5 dataset \"variant_pos\": shape (6,), type \"<i8\">),\n",
       " ('/variant_ref', <HDF5 dataset \"variant_ref\": shape (6,), type \"|O\">)]"
      ]
     },
     "execution_count": 40,
     "metadata": {},
     "output_type": "execute_result"
    }
   ],
   "source": [
    "r.ls()"
   ]
  },
  {
   "cell_type": "code",
   "execution_count": 41,
   "metadata": {},
   "outputs": [],
   "source": [
    "# load the values\n",
    "d = HDF5Reader.load(f, unflatten=False)"
   ]
  },
  {
   "cell_type": "code",
   "execution_count": 42,
   "metadata": {},
   "outputs": [
    {
     "data": {
      "text/plain": [
       "dict_keys(['/line_idx', '/preds/alt/rbp_prb', '/preds/diff/rbp_prb', '/preds/ref/rbp_prb', '/variant_alt', '/variant_chr', '/variant_id', '/variant_pos', '/variant_ref'])"
      ]
     },
     "execution_count": 42,
     "metadata": {},
     "output_type": "execute_result"
    }
   ],
   "source": [
    "d.keys()"
   ]
  },
  {
   "cell_type": "code",
   "execution_count": 59,
   "metadata": {},
   "outputs": [],
   "source": [
    "def df2index(df):\n",
    "    return pd.MultiIndex.from_arrays([df.values[:,i] for i in range(df.shape[1])], names=list(df.columns))\n",
    "\n",
    "\n",
    "def read_preds_h5(model, vcf_set, output_dir, scoring_fn='diff'):\n",
    "    d = HDF5Reader.load(\"{}/{}/{}.h5\".format(output_dir, vcf_set, model), unflatten=False)\n",
    "    preds = d.pop(f\"/preds/{scoring_fn}/{model}_prb\")\n",
    "    \n",
    "    if preds.ndim == 1:\n",
    "        preds = preds[:, np.newaxis]\n",
    "    assert preds.ndim == 2  # this example works only with 2 dim output arrays\n",
    "    \n",
    "    metadata_table = pd.DataFrame(d)\n",
    "    metadata_table.columns = metadata_table.columns.str.replace(\"^/\", \"\")\n",
    "    metadata_table['vcf_set'] = vcf_set\n",
    "    metadata_table = metadata_table[merge_cols]  # re-order\n",
    "    \n",
    "    if preds.shape[1] > 1 and model != 'Basset':\n",
    "        # TODO - remove\n",
    "        descr = kipoi.get_model_descr(model)\n",
    "        return pd.DataFrame(preds, \n",
    "                            columns=model + \"/\" + pd.Series(descr.schema.targets.column_labels),\n",
    "                            index=df2index(metadata_table))\n",
    "    else:\n",
    "        return pd.DataFrame(preds, columns = model + \"/\" + pd.Series(np.arange(preds.shape[1]), dtype=str),\n",
    "                            index=df2index(metadata_table))"
   ]
  },
  {
   "cell_type": "code",
   "execution_count": 60,
   "metadata": {},
   "outputs": [],
   "source": [
    "df = pd.concat([read_preds_h5(m, 'variants', output_dir='output') for m in models], axis=1)"
   ]
  },
  {
   "cell_type": "code",
   "execution_count": 61,
   "metadata": {},
   "outputs": [
    {
     "data": {
      "text/html": [
       "<div>\n",
       "<style scoped>\n",
       "    .dataframe tbody tr th:only-of-type {\n",
       "        vertical-align: middle;\n",
       "    }\n",
       "\n",
       "    .dataframe tbody tr th {\n",
       "        vertical-align: top;\n",
       "    }\n",
       "\n",
       "    .dataframe thead th {\n",
       "        text-align: right;\n",
       "    }\n",
       "</style>\n",
       "<table border=\"1\" class=\"dataframe\">\n",
       "  <thead>\n",
       "    <tr style=\"text-align: right;\">\n",
       "      <th></th>\n",
       "      <th></th>\n",
       "      <th></th>\n",
       "      <th></th>\n",
       "      <th></th>\n",
       "      <th></th>\n",
       "      <th></th>\n",
       "      <th>rbp/0</th>\n",
       "    </tr>\n",
       "    <tr>\n",
       "      <th>variant_chr</th>\n",
       "      <th>variant_pos</th>\n",
       "      <th>variant_ref</th>\n",
       "      <th>variant_alt</th>\n",
       "      <th>variant_id</th>\n",
       "      <th>line_idx</th>\n",
       "      <th>vcf_set</th>\n",
       "      <th></th>\n",
       "    </tr>\n",
       "  </thead>\n",
       "  <tbody>\n",
       "    <tr>\n",
       "      <th rowspan=\"5\" valign=\"top\">chr22</th>\n",
       "      <th>21541590</th>\n",
       "      <th>A</th>\n",
       "      <th>T</th>\n",
       "      <th>rs1111</th>\n",
       "      <th>chr22:21541590:A:['T']</th>\n",
       "      <th>variants</th>\n",
       "      <td>0.0172</td>\n",
       "    </tr>\n",
       "    <tr>\n",
       "      <th>21541952</th>\n",
       "      <th>C</th>\n",
       "      <th>C</th>\n",
       "      <th>rs1112</th>\n",
       "      <th>chr22:21541952:C:['C']</th>\n",
       "      <th>variants</th>\n",
       "      <td>0.0000</td>\n",
       "    </tr>\n",
       "    <tr>\n",
       "      <th>30630220</th>\n",
       "      <th>T</th>\n",
       "      <th>G</th>\n",
       "      <th>rs1113</th>\n",
       "      <th>chr22:30630220:T:['G']</th>\n",
       "      <th>variants</th>\n",
       "      <td>0.0179</td>\n",
       "    </tr>\n",
       "    <tr>\n",
       "      <th>30630701</th>\n",
       "      <th>A</th>\n",
       "      <th>G</th>\n",
       "      <th>rs1114</th>\n",
       "      <th>chr22:30630701:A:['G']</th>\n",
       "      <th>variants</th>\n",
       "      <td>0.0322</td>\n",
       "    </tr>\n",
       "    <tr>\n",
       "      <th>35503223</th>\n",
       "      <th>C</th>\n",
       "      <th>A</th>\n",
       "      <th>rs1115</th>\n",
       "      <th>chr22:35503223:C:['A']</th>\n",
       "      <th>variants</th>\n",
       "      <td>-0.0292</td>\n",
       "    </tr>\n",
       "  </tbody>\n",
       "</table>\n",
       "</div>"
      ],
      "text/plain": [
       "                                                                                             rbp/0\n",
       "variant_chr variant_pos variant_ref variant_alt variant_id line_idx               vcf_set         \n",
       "chr22       21541590    A           T           rs1111     chr22:21541590:A:['T'] variants  0.0172\n",
       "            21541952    C           C           rs1112     chr22:21541952:C:['C'] variants  0.0000\n",
       "            30630220    T           G           rs1113     chr22:30630220:T:['G'] variants  0.0179\n",
       "            30630701    A           G           rs1114     chr22:30630701:A:['G'] variants  0.0322\n",
       "            35503223    C           A           rs1115     chr22:35503223:C:['A'] variants -0.0292"
      ]
     },
     "execution_count": 61,
     "metadata": {},
     "output_type": "execute_result"
    }
   ],
   "source": [
    "df.head()"
   ]
  }
 ],
 "metadata": {
  "kernelspec": {
   "display_name": "Python [default]",
   "language": "python",
   "name": "python3"
  },
  "language_info": {
   "codemirror_mode": {
    "name": "ipython",
    "version": 3
   },
   "file_extension": ".py",
   "mimetype": "text/x-python",
   "name": "python",
   "nbconvert_exporter": "python",
   "pygments_lexer": "ipython3",
   "version": "3.6.1"
  }
 },
 "nbformat": 4,
 "nbformat_minor": 2
}
