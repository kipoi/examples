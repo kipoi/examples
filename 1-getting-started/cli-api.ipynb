{
 "cells": [
  {
   "cell_type": "code",
   "execution_count": null,
   "metadata": {},
   "outputs": [],
   "source": []
  },
  {
   "cell_type": "markdown",
   "metadata": {},
   "source": [
    "## List models"
   ]
  },
  {
   "cell_type": "code",
   "execution_count": 1,
   "metadata": {},
   "outputs": [
    {
     "name": "stdout",
     "output_type": "stream",
     "text": [
      "\u001b[32mINFO\u001b[0m \u001b[44m[kipoi.sources]\u001b[0m Update /home/avsec/.kipoi/models/\u001b[0m\n",
      "fatal: unable to access 'https://github.com/kipoi/models.git/': Could not resolve host: github.com\n",
      "Basenji\n",
      "Basset\n",
      "CleTimer/ (2)\n",
      "CpGenie/ (51)\n",
      "DeepBind/ (927)\n",
      "DeepCpG_DNA/ (5)\n",
      "DeepSEA/ (2)\n",
      "Divergent421\n",
      "FactorNet/ (30)\n",
      "HAL\n",
      "KipoiSplice/ (2)\n",
      "MMSplice/ (10)\n",
      "MaxEntScan/ (2)\n",
      "SiSp\n",
      "deepTarget\n",
      "extended_coda\n",
      "labranchor\n",
      "lsgkm-SVM/ (322)\n",
      "pwm_HOCOMOCO/ (600)\n",
      "rbp_eclip/ (112)\n",
      "\u001b[0m"
     ]
    }
   ],
   "source": [
    "!kipoi ls"
   ]
  },
  {
   "cell_type": "code",
   "execution_count": null,
   "metadata": {},
   "outputs": [],
   "source": []
  }
 ],
 "metadata": {
  "kernelspec": {
   "display_name": "Python [default]",
   "language": "python",
   "name": "python3"
  },
  "language_info": {
   "codemirror_mode": {
    "name": "ipython",
    "version": 3
   },
   "file_extension": ".py",
   "mimetype": "text/x-python",
   "name": "python",
   "nbconvert_exporter": "python",
   "pygments_lexer": "ipython3",
   "version": "3.6.1"
  }
 },
 "nbformat": 4,
 "nbformat_minor": 2
}
