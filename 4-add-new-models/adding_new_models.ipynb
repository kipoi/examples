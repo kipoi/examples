{
 "cells": [
  {
   "cell_type": "markdown",
   "metadata": {},
   "source": [
    "# Contributing a model to the Kipoi model repository\n",
    "\n",
    "This notebook will show you how to setup a 'Kipoi model' and upload it to the [Kipoi model repository](https://github.com/kipoi/models). For a simple 'model contribution checklist' see also <http://kipoi.org/docs/contributing/01_Getting_started/>.\n",
    "\n",
    "## Kipoi basics\n",
    "\n",
    "Contributing a model to Kipoi means writing a sub-folder with all the required files to the [Kipoi model repository](https://github.com/kipoi/models) via pull request.\n",
    "\n",
    "Two main components of the model repository are **model** and **dataloader**."
   ]
  },
  {
   "cell_type": "markdown",
   "metadata": {},
   "source": [
    "![img](https://camo.githubusercontent.com/91ec830fef30c23383015083dbb094000b64e9c2/687474703a2f2f6b69706f692e6f72672f646f63732f696d672f6b69706f692d776f726b666c6f772e706e67)"
   ]
  },
  {
   "cell_type": "markdown",
   "metadata": {},
   "source": [
    "### Model\n",
    "\n",
    "Model takes as input numpy arrays and outputs numpy arrays. In practice, a model needs to implement the `predict_on_batch(x)` method, where `x` is dictionary/list of numpy arrays. The model contributor needs to provide one of the following:\n",
    "\n",
    "- Serialized Keras, Sklearn, TensorFlow or PyTorch model\n",
    "- Custom model inheriting from `keras.model.BaseModel`.\n",
    "  - all the required files, i.e. weights need to be loaded in the `__init__`\n",
    "  \n",
    "See <http://kipoi.org/docs/contributing/02_Writing_model.yaml/> and <http://kipoi.org/docs/contributing/05_Writing_model.py/> for more info.\n",
    "\n",
    "### Dataloader\n",
    "\n",
    "Dataloader takes raw file paths or other parameters as argument and outputs modelling-ready numpy arrays. \n",
    "\n",
    "Before writing your own dataloader take a look at our [kipoiseq](https://github.com/kipoi/kipoiseq) repository to see whether your use-case is covered by the available dataloaders.\n",
    "\n",
    "#### Writing your own dataloader\n",
    "Technically, dataloading can be done through a generator---batch-by-batch, sample-by-sample---or by just returning the whole dataset. The goal is to work really with raw files (say fasta, bed, vcf, etc in bioinformatics), as this allows to make model predictions on new datasets without going through the burden of running custom pre-processing scripts. The model contributor needs to implement one of the following:\n",
    "\n",
    "- PreloadedDataset\n",
    "- Dataset\n",
    "- BatchDataset\n",
    "- SampleIterator\n",
    "- BatchIterator\n",
    "- SampleGenerator\n",
    "- BatchGenerator\n",
    "\n",
    "See <http://kipoi.org/docs/contributing/04_Writing_dataloader.py/> for more info.\n",
    "\n",
    "### Folder layout\n",
    "\n",
    "Here is an example folder structure of a Kipoi model:\n",
    "\n",
    "```\n",
    "MyModel\n",
    "├── dataloader.py     # implements the dataloader (only necessary if you wrote your own dataloader)\n",
    "├── dataloader.yaml   # describes the dataloader (only necessary if you wrote your own dataloader)\n",
    "└── model.yaml         # describes the model\n",
    "```    \n",
    "\n",
    "The `model.yaml` and `dataloader.yaml` files a complete description about the model, the dataloader and the files they depend on."
   ]
  },
  {
   "cell_type": "markdown",
   "metadata": {},
   "source": [
    "## Contributing a simple Iris-classifier\n",
    "\n",
    "Details about the individual files will be revealed throught the tutorial below. A simple Keras model will be trained to predict the Iris plant class from the well-known [Iris](archive.ics.uci.edu/ml/datasets/Iris) dataset.\n",
    "\n"
   ]
  },
  {
   "cell_type": "markdown",
   "metadata": {},
   "source": [
    "### Outline\n",
    "\n",
    "1. Train the model\n",
    "2. Generate the model directory\n",
    "3. Store all data files required for the model and the dataloader in a temporary folder\n",
    "4. Write `model.yaml`\n",
    "5. Write `dataloader.yaml`\n",
    "6. Write `dataloader.py`\n",
    "7. Test with the model with `$ kipoi test .`\n",
    "8. Publish data files on zenodo\n",
    "9. Update `model.yaml` and `dataloader.yaml` to contain the links\n",
    "10. Test again\n",
    "11. Commit, push and generate a pull request"
   ]
  },
  {
   "cell_type": "markdown",
   "metadata": {},
   "source": [
    "### 1. Train the model"
   ]
  },
  {
   "cell_type": "markdown",
   "metadata": {},
   "source": [
    "#### Load and pre-process the data"
   ]
  },
  {
   "cell_type": "code",
   "execution_count": 1,
   "metadata": {},
   "outputs": [],
   "source": [
    "import pandas as pd\n",
    "import os\n",
    "from sklearn.preprocessing import LabelBinarizer, StandardScaler\n",
    "\n",
    "from sklearn import datasets\n",
    "iris = datasets.load_iris()"
   ]
  },
  {
   "cell_type": "code",
   "execution_count": 2,
   "metadata": {},
   "outputs": [],
   "source": [
    "# view more info about the dataset\n",
    "# print(iris[\"DESCR\"])"
   ]
  },
  {
   "cell_type": "code",
   "execution_count": 3,
   "metadata": {},
   "outputs": [],
   "source": [
    "# Data pre-processing\n",
    "y_transformer = LabelBinarizer().fit(iris[\"target\"])\n",
    "x_transformer = StandardScaler().fit(iris[\"data\"])"
   ]
  },
  {
   "cell_type": "code",
   "execution_count": 4,
   "metadata": {},
   "outputs": [],
   "source": [
    "x = x_transformer.transform(iris[\"data\"])\n",
    "y = y_transformer.transform(iris[\"target\"])"
   ]
  },
  {
   "cell_type": "code",
   "execution_count": 5,
   "metadata": {},
   "outputs": [
    {
     "data": {
      "text/plain": [
       "array([[-0.9007,  1.0321, -1.3413, -1.313 ],\n",
       "       [-1.143 , -0.125 , -1.3413, -1.313 ],\n",
       "       [-1.3854,  0.3378, -1.3981, -1.313 ]])"
      ]
     },
     "execution_count": 5,
     "metadata": {},
     "output_type": "execute_result"
    }
   ],
   "source": [
    "x[:3]"
   ]
  },
  {
   "cell_type": "code",
   "execution_count": 6,
   "metadata": {},
   "outputs": [
    {
     "data": {
      "text/plain": [
       "array([[1, 0, 0],\n",
       "       [1, 0, 0],\n",
       "       [1, 0, 0]])"
      ]
     },
     "execution_count": 6,
     "metadata": {},
     "output_type": "execute_result"
    }
   ],
   "source": [
    "y[:3]"
   ]
  },
  {
   "cell_type": "markdown",
   "metadata": {},
   "source": [
    "#### Train an example model\n",
    "\n",
    "Let's train a simple linear-regression model using Keras."
   ]
  },
  {
   "cell_type": "code",
   "execution_count": 7,
   "metadata": {},
   "outputs": [
    {
     "name": "stderr",
     "output_type": "stream",
     "text": [
      "Using TensorFlow backend.\n"
     ]
    },
    {
     "data": {
      "text/plain": [
       "<keras.callbacks.History at 0x7ffa6e2f6b70>"
      ]
     },
     "execution_count": 7,
     "metadata": {},
     "output_type": "execute_result"
    }
   ],
   "source": [
    "from keras.models import Model\n",
    "import keras.layers as kl\n",
    "\n",
    "inp = kl.Input(shape=(4, ), name=\"features\")\n",
    "out = kl.Dense(units=3)(inp)\n",
    "model = Model(inp, out)\n",
    "model.compile(\"adam\", \"categorical_crossentropy\")\n",
    "\n",
    "model.fit(x, y, verbose=0)"
   ]
  },
  {
   "cell_type": "markdown",
   "metadata": {},
   "source": [
    "### 2. Set the model directory up:\n",
    "\n",
    "In reality, you would also need to \n",
    "\n",
    "1. Fork the [kipoi/models repository](https://github.com/kipoi/models)\n",
    "2. Clone your repository fork\n",
    "    - `$ git clone git@github.com:<your_username>/models.git`\n",
    "3. Create a new folder `<mynewmodel>`\n",
    "\n",
    "\n",
    "### 3. Store the files in a temporary directory\n",
    "All the data of the model will have to be published on zenodo or figshare before the pull request is performed. While setting the Kipoi model up, it is handy the keep the models in a temporary directory in the model folder, which we will delete prior to the pull request."
   ]
  },
  {
   "cell_type": "code",
   "execution_count": 8,
   "metadata": {},
   "outputs": [
    {
     "name": "stdout",
     "output_type": "stream",
     "text": [
      "mkdir: cannot create directory ‘models/iris’: File exists\n",
      "mkdir: cannot create directory ‘models/iris/tmp’: File exists\n"
     ]
    }
   ],
   "source": [
    "# create the model directory\n",
    "!mkdir models/iris\n",
    "# create the temporary directory where we will keep the files that should later be published in zenodo or figshare\n",
    "!mkdir models/iris/tmp"
   ]
  },
  {
   "cell_type": "markdown",
   "metadata": {},
   "source": [
    "Now we can change the current working directory to the model directory:"
   ]
  },
  {
   "cell_type": "code",
   "execution_count": 9,
   "metadata": {},
   "outputs": [],
   "source": [
    "import os\n",
    "os.chdir(\"models/iris\")"
   ]
  },
  {
   "cell_type": "markdown",
   "metadata": {},
   "source": [
    "#### 3a. Static files for dataloader\n",
    "Since in our case here we require to write a new dataloader. The dataloader can use some trained transformer instances (here the `LabelBinarizer` and `StandardScaler` transformers form sklearn). These should be uploaded with the model files and then referenced correctly in the `dataloader.yaml` file. We will store the required files in the temporary folder:"
   ]
  },
  {
   "cell_type": "code",
   "execution_count": 10,
   "metadata": {},
   "outputs": [],
   "source": [
    "import pickle"
   ]
  },
  {
   "cell_type": "code",
   "execution_count": 11,
   "metadata": {},
   "outputs": [],
   "source": [
    "with open(\"tmp/y_transformer.pkl\", \"wb\") as f:\n",
    "    pickle.dump(y_transformer, f, protocol=2)\n",
    "\n",
    "with open(\"tmp/x_transformer.pkl\", \"wb\") as f:\n",
    "    pickle.dump(x_transformer, f, protocol=2)"
   ]
  },
  {
   "cell_type": "code",
   "execution_count": 12,
   "metadata": {},
   "outputs": [
    {
     "name": "stdout",
     "output_type": "stream",
     "text": [
      "example_features.csv  model.json\t weights.h5\t    y_transformer.pkl\n",
      "example_targets.csv   sklearn_model.pkl  x_transformer.pkl\n"
     ]
    }
   ],
   "source": [
    "! ls tmp"
   ]
  },
  {
   "cell_type": "markdown",
   "metadata": {},
   "source": [
    "#### 3b. Model definition / weights\n",
    "Now that we have the static files that are required by the dataloader, we also need to store the model architecture and weights:"
   ]
  },
  {
   "cell_type": "code",
   "execution_count": 13,
   "metadata": {},
   "outputs": [],
   "source": [
    "# Architecture\n",
    "with open(\"tmp/model.json\", \"w\") as f:\n",
    "    f.write(model.to_json())\n",
    "    \n",
    "# Weights\n",
    "model.save_weights(\"tmp/weights.h5\")"
   ]
  },
  {
   "cell_type": "markdown",
   "metadata": {},
   "source": [
    "Alternatively if we would be using a scikit-learn model we would save the pickle file:"
   ]
  },
  {
   "cell_type": "code",
   "execution_count": 14,
   "metadata": {},
   "outputs": [],
   "source": [
    "# Alternatively, for the scikit-learn model we would save the pickle file\n",
    "from sklearn.linear_model import LogisticRegression\n",
    "from sklearn.multiclass import OneVsRestClassifier\n",
    "lr = OneVsRestClassifier(LogisticRegression())\n",
    "lr.fit(x, y)\n",
    "\n",
    "with open(\"tmp/sklearn_model.pkl\", \"wb\") as f:\n",
    "    pickle.dump(lr, f, protocol=2)"
   ]
  },
  {
   "cell_type": "markdown",
   "metadata": {},
   "source": [
    "#### 3c. Example files for the dataloader\n",
    "Every Kipoi dataloader has to provide a set of example files so that Kipoi can perform its automated tests and users can have an idea what the dataloader files have to look like. Again we will store the files in the temporary folder:"
   ]
  },
  {
   "cell_type": "code",
   "execution_count": 15,
   "metadata": {},
   "outputs": [],
   "source": [
    "# select first 20 rows of the iris dataset\n",
    "X = pd.DataFrame(iris[\"data\"][:20], columns=iris[\"feature_names\"])\n",
    "y = pd.DataFrame({\"class\": iris[\"target\"][:20]})\n",
    "# store the model input features and targets as csv files with column names:\n",
    "X.to_csv(\"tmp/example_features.csv\", index=False)\n",
    "y.to_csv(\"tmp/example_targets.csv\", index=False)"
   ]
  },
  {
   "cell_type": "markdown",
   "metadata": {},
   "source": [
    "### 4 Write the model.yaml\n",
    "Now it is time to write the model.yaml in the model directory. Since we are in the testing stage we will be using local file paths in the `args` field - those will be replaced by zenodo links once everything is ready for publication."
   ]
  },
  {
   "cell_type": "code",
   "execution_count": 16,
   "metadata": {},
   "outputs": [],
   "source": [
    "model_yaml = \"\"\"\n",
    "\n",
    "defined_as: kipoi.model.KerasModel\n",
    "args:\n",
    "    arch: tmp/model.json\n",
    "    weights: tmp/weights.h5\n",
    "\n",
    "default_dataloader: . # path to the dataloader directory. Here it's defined in the same directory\n",
    "\n",
    "info: # General information about the model\n",
    "    authors: \n",
    "        - name: Your Name\n",
    "          github: your_github_username\n",
    "          email: your_email@host.org\n",
    "    doc: Model predicting the Iris species\n",
    "    cite_as: https://doi.org:/... # preferably a doi url to the paper\n",
    "    trained_on: Iris species dataset (http://archive.ics.uci.edu/ml/datasets/Iris) # short dataset description\n",
    "    license: MIT # Software License - defaults to MIT\n",
    "\n",
    "dependencies:\n",
    "\n",
    "    conda: # install via conda\n",
    "      - python=3.5\n",
    "      - h5py\n",
    "      # - soumith::pytorch  # specify packages from other channels via <channel>::<package>      \n",
    "\n",
    "    pip:   # install via pip\n",
    "      - keras>=2.0.4\n",
    "      - tensorflow>=1.0\n",
    "\n",
    "schema:  # Model schema\n",
    "    inputs:\n",
    "        features:\n",
    "            shape: (4,)  # array shape of a single sample (omitting the batch dimension)\n",
    "            doc: \"Features in cm: sepal length, sepal width, petal length, petal width.\"\n",
    "    targets:\n",
    "        shape: (3,)\n",
    "        doc: \"One-hot encoded array of classes: setosa, versicolor, virginica.\"\n",
    "\"\"\"\n",
    "with open(\"model.yaml\", \"w\") as ofh:\n",
    "    ofh.write(model_yaml)"
   ]
  },
  {
   "cell_type": "markdown",
   "metadata": {},
   "source": [
    "### 5 and 6 Write the dataloader.yaml and dataloader.py\n",
    "\n",
    "_**PLEASE REMEMBER:**_\n",
    "Before writing a dataloader yourself please check whether the same functionality can be achieved using a ready-made \n",
    "dataloader in [kipoiseq](https://github.com/kipoi/kipoiseq) and use those as explained in the Kipoi docs.\n",
    "\n",
    "\n",
    "\n",
    "Now it is time to write the `dataloader.yaml`. Since we defined the `default_dataloader` field in `model.yaml` as `.` Kipoi will expect that our `dataloader.yaml` file lies in the same directory. Since we are in the testing stage we will be using local file paths in the `args` field - those will be replaced by zenodo links once everything is ready for publication."
   ]
  },
  {
   "cell_type": "code",
   "execution_count": 17,
   "metadata": {},
   "outputs": [],
   "source": [
    "dataloader_yaml = \"\"\"\n",
    "type: Dataset\n",
    "defined_as: dataloader.MyDataset\n",
    "\n",
    "args:\n",
    "    features_file:\n",
    "        # descr: > allows multi-line fields\n",
    "        doc: >\n",
    "          Csv file of the Iris Plants Database from\n",
    "          http://archive.ics.uci.edu/ml/datasets/Iris features.\n",
    "        type: str\n",
    "        example: tmp/example_features.csv  # example files\n",
    "    x_transformer:\n",
    "        default: tmp/x_transformer.pkl\n",
    "        #default:\n",
    "        #      url: https://github.com/kipoi/kipoi/raw/57734d716b8dedaffe460855e7cfe8f37ec2d48d/example/models/sklearn_iris/dataloader_files/x_transformer.pkl\n",
    "        #      md5: bc1bf3c61c418b2d07506a7d0521a893\n",
    "    y_transformer:\n",
    "        default: tmp/y_transformer.pkl\n",
    "    targets_file:\n",
    "        doc: >\n",
    "          Csv file of the Iris Plants Database targets.\n",
    "          Not required for making the prediction.\n",
    "        type: str\n",
    "        example: tmp/example_targets.csv\n",
    "        optional: True  # if not present, the `targets` field will not be present in the dataloader output\n",
    "    \n",
    "info:\n",
    "    authors: \n",
    "        - name: Your Name\n",
    "          github: your_github_account\n",
    "          email: your_email@host.org\n",
    "    version: 0.1\n",
    "    doc: Model predicting the Iris species\n",
    "\n",
    "dependencies:\n",
    "    conda:\n",
    "      - python=3.5\n",
    "      - pandas\n",
    "      - numpy\n",
    "      - sklearn\n",
    "\n",
    "output_schema:\n",
    "    inputs:\n",
    "        features:\n",
    "            shape: (4,)\n",
    "            doc: \"Features in cm: sepal length, sepal width, petal length, petal width.\"\n",
    "    targets:\n",
    "        shape: (3, )\n",
    "        doc: \"One-hot encoded array of classes: setosa, versicolor, virginica.\"\n",
    "    metadata:  # field providing additional information to the samples (not directly required by the model)\n",
    "        example_row_number:\n",
    "            doc: Just an example metadata column\n",
    "\"\"\"\n",
    "with open(\"dataloader.yaml\", \"w\") as ofh:\n",
    "    ofh.write(dataloader_yaml)"
   ]
  },
  {
   "cell_type": "markdown",
   "metadata": {},
   "source": [
    "Since we have referred to the dataloader as `dataloader.MyDataset` we expect a `dataloader.py` file in the same directory as `dataloader.yaml` which has to contain the dataloader class, which is here `MyDataset`.\n",
    "\n",
    "Notice that external static files are arguments to the `__init__` function! Their path was defined in the `dataloader.yaml`."
   ]
  },
  {
   "cell_type": "code",
   "execution_count": 18,
   "metadata": {},
   "outputs": [],
   "source": [
    "import pickle\n",
    "from kipoi.data import Dataset\n",
    "import pandas as pd\n",
    "import numpy as np\n",
    "\n",
    "def read_pickle(f):\n",
    "    with open(f, \"rb\") as f:\n",
    "        return pickle.load(f)\n",
    "\n",
    "class MyDataset(Dataset):\n",
    "\n",
    "    def __init__(self, features_file, targets_file=None, x_transformer=None, y_transformer=None):\n",
    "        self.features_file = features_file\n",
    "        self.targets_file = targets_file\n",
    "\n",
    "        self.y_transformer = read_pickle(y_transformer)\n",
    "        self.x_transformer = read_pickle(x_transformer)\n",
    "\n",
    "        self.features = pd.read_csv(features_file)\n",
    "        if targets_file is not None:\n",
    "            self.targets = pd.read_csv(targets_file)\n",
    "            assert len(self.targets) == len(self.features)\n",
    "\n",
    "    def __len__(self):\n",
    "        return len(self.features)\n",
    "\n",
    "    def __getitem__(self, idx):\n",
    "        x_features = np.ravel(self.x_transformer.transform(self.features.iloc[idx].values[np.newaxis]))\n",
    "        if self.targets_file is None:\n",
    "            y_class = {}\n",
    "        else:\n",
    "            y_class = np.ravel(self.y_transformer.transform(self.targets.iloc[idx].values[np.newaxis]))\n",
    "        return {\n",
    "            \"inputs\": {\n",
    "                \"features\": x_features\n",
    "            },\n",
    "            \"targets\": y_class,\n",
    "            \"metadata\": {\n",
    "                \"example_row_number\": idx\n",
    "            }\n",
    "        }"
   ]
  },
  {
   "cell_type": "markdown",
   "metadata": {},
   "source": [
    "In order to elucidate what the Dataloader class does I will make a few function calls that are usually performed by the Kipoi API in order to generate model input:"
   ]
  },
  {
   "cell_type": "code",
   "execution_count": 19,
   "metadata": {},
   "outputs": [],
   "source": [
    "# instantiate the dataloader\n",
    "ds = MyDataset(\"tmp/example_features.csv\", \"tmp/example_targets.csv\", \"tmp/x_transformer.pkl\", \n",
    "               \"tmp/y_transformer.pkl\")"
   ]
  },
  {
   "cell_type": "code",
   "execution_count": 20,
   "metadata": {},
   "outputs": [
    {
     "data": {
      "text/plain": [
       "{'inputs': {'features': array([-0.5372,  1.9577, -1.1707, -1.05  ])},\n",
       " 'metadata': {'example_row_number': 5},\n",
       " 'targets': array([1, 0, 0])}"
      ]
     },
     "execution_count": 20,
     "metadata": {},
     "output_type": "execute_result"
    }
   ],
   "source": [
    "# call __getitem__\n",
    "ds[5]"
   ]
  },
  {
   "cell_type": "code",
   "execution_count": 21,
   "metadata": {},
   "outputs": [
    {
     "data": {
      "text/plain": [
       "{'inputs': {'features': array([[-0.9007,  1.0321, -1.3413, -1.313 ],\n",
       "         [-1.143 , -0.125 , -1.3413, -1.313 ],\n",
       "         [-1.3854,  0.3378, -1.3981, -1.313 ]])},\n",
       " 'metadata': {'example_row_number': array([0, 1, 2])},\n",
       " 'targets': array([[1, 0, 0],\n",
       "        [1, 0, 0],\n",
       "        [1, 0, 0]])}"
      ]
     },
     "execution_count": 21,
     "metadata": {},
     "output_type": "execute_result"
    }
   ],
   "source": [
    "it = ds.batch_iter(batch_size=3, shuffle=False, num_workers=2)\n",
    "next(it)"
   ]
  },
  {
   "cell_type": "markdown",
   "metadata": {},
   "source": [
    "I will now store the code from above in a file so that we can test it:"
   ]
  },
  {
   "cell_type": "code",
   "execution_count": 22,
   "metadata": {},
   "outputs": [],
   "source": [
    "dataloader_py = \"\"\"\n",
    "import pickle\n",
    "from kipoi.data import Dataset\n",
    "import pandas as pd\n",
    "import numpy as np\n",
    "\n",
    "def read_pickle(f):\n",
    "    with open(f, \"rb\") as f:\n",
    "        return pickle.load(f)\n",
    "\n",
    "class MyDataset(Dataset):\n",
    "\n",
    "    def __init__(self, features_file, targets_file=None, x_transformer=None, y_transformer=None):\n",
    "        self.features_file = features_file\n",
    "        self.targets_file = targets_file\n",
    "\n",
    "        self.y_transformer = read_pickle(y_transformer)\n",
    "        self.x_transformer = read_pickle(x_transformer)\n",
    "\n",
    "        self.features = pd.read_csv(features_file)\n",
    "        if targets_file is not None:\n",
    "            self.targets = pd.read_csv(targets_file)\n",
    "            assert len(self.targets) == len(self.features)\n",
    "\n",
    "    def __len__(self):\n",
    "        return len(self.features)\n",
    "\n",
    "    def __getitem__(self, idx):\n",
    "        x_features = np.ravel(self.x_transformer.transform(self.features.iloc[idx].values[np.newaxis]))\n",
    "        if self.targets_file is None:\n",
    "            y_class = {}\n",
    "        else:\n",
    "            y_class = np.ravel(self.y_transformer.transform(self.targets.iloc[idx].values[np.newaxis]))\n",
    "        return {\n",
    "            \"inputs\": {\n",
    "                \"features\": x_features\n",
    "            },\n",
    "            \"targets\": y_class,\n",
    "            \"metadata\": {\n",
    "                \"example_row_number\": idx\n",
    "            }\n",
    "        }\n",
    "\"\"\"\n",
    "with open(\"dataloader.py\", \"w\") as ofh:\n",
    "    ofh.write(dataloader_py)"
   ]
  },
  {
   "cell_type": "markdown",
   "metadata": {},
   "source": [
    "### 7 Test the model\n",
    "Now it is time to test the model."
   ]
  },
  {
   "cell_type": "code",
   "execution_count": 23,
   "metadata": {},
   "outputs": [
    {
     "name": "stdout",
     "output_type": "stream",
     "text": [
      "WARNING [kipoi.specs] doc empty for one of the dataloader `args` fields\n",
      "WARNING [kipoi.specs] doc empty for one of the dataloader `args` fields\n",
      "INFO [kipoi.data] successfully loaded the dataloader ./. from /home/avsec/workspace/kipoi/examples/4-add-new-model/models/iris/dataloader.MyDataset\n",
      "Using TensorFlow backend.\n",
      "INFO [kipoi.model] successfully loaded model architecture from <_io.TextIOWrapper name='tmp/model.json' mode='r' encoding='UTF-8'>\n",
      "2018-11-13 10:54:43.062166: I tensorflow/core/platform/cpu_feature_guard.cc:140] Your CPU supports instructions that this TensorFlow binary was not compiled to use: AVX2 FMA\n",
      "INFO [kipoi.model] successfully loaded model weights from tmp/weights.h5\n",
      "INFO [kipoi.pipeline] dataloader.output_schema is compatible with model.schema\n",
      "INFO [kipoi.pipeline] Initialized data generator. Running batches...\n",
      "INFO [kipoi.pipeline] Returned data schema correct\n",
      "100%|█████████████████████████████████████████████| 1/1 [00:00<00:00, 41.79it/s]\n",
      "INFO [kipoi.pipeline] predict_example done!\n",
      "INFO [kipoi.cli.main] Successfully ran test_predict\n"
     ]
    }
   ],
   "source": [
    "!kipoi test ."
   ]
  },
  {
   "cell_type": "markdown",
   "metadata": {},
   "source": [
    "### 8. Publish data on zenodo or figshare\n",
    "\n",
    "Now that the model works It is time to upload the data files onto zenodo or figshare. To do so follow the instructions on the website. It might be necessary to remove file suffixes in order to be able to load the respective files."
   ]
  },
  {
   "cell_type": "markdown",
   "metadata": {},
   "source": [
    "### 9 Update `model.yaml` and `dataloader.yaml`\n",
    "\n",
    "Now the local file paths in `model.yaml` and `dataloader.yaml` have to be replaced by the zenodo / figshare URLs in the following way.\n",
    "\n",
    "The entry:\n",
    "\n",
    "```yaml\n",
    "args:\n",
    "    ...\n",
    "    x_transformer:\n",
    "        default: tmp/x_transformer.pkl\n",
    "```\n",
    "\n",
    "would be replaced by:\n",
    "\n",
    "```yaml\n",
    "args:\n",
    "    ...\n",
    "    x_transformer:\n",
    "        default: \n",
    "            url: https://zenodo.org/path/to/example_files/x_transformer.pkl\n",
    "            md5: 76a5sd76asd57\n",
    "```\n",
    "\n",
    "So every local path has to be replaced by the `url` and `md5` combination. Where `md5` is the md5 sum of the file. If you cannot find the the md5 sum on the zenodo / figshare website you can for example run `curl https://zenodo.org/.../x_transformer.pkl | md5sum` to calculate the md5 sum.\n",
    "\n",
    "Now after replacing all the files, test the setup again by running `kipoi test .` and then delete the `tmp` folder. Now the only file(s) remaining in the folder should be `model.yaml` (and in this case also: `dataloader.py`  `dataloader.yaml`). "
   ]
  },
  {
   "cell_type": "markdown",
   "metadata": {},
   "source": [
    "### 9 Test again\n",
    "Now that you have deleted the temporary files, rerun the test to make sure everything works fine."
   ]
  },
  {
   "cell_type": "markdown",
   "metadata": {},
   "source": [
    "### 10 Commit and push\n",
    "Now commit the `model.yaml` and if needed (like in this example) also the `dataloader.py` and `datalaoder.yaml` files by running: `git add model.yaml`.\n",
    "\n",
    "Now you can push back to your fork (`git push`) and submit a pull request with `kipoi/models` to request adding your model to the Kipoi models."
   ]
  },
  {
   "cell_type": "markdown",
   "metadata": {},
   "source": [
    "## Accessing local models through kipoi \n",
    "\n",
    "In Kipoi it is not necessary to publish your model. You can leverage the full functionality of Kipoi also for local models. All you have to do is specify `--source dir` when using the CLI or setting `source=\"dir\"` in the python API. The model name is then the local path to the model folder."
   ]
  },
  {
   "cell_type": "code",
   "execution_count": 24,
   "metadata": {},
   "outputs": [],
   "source": [
    "import kipoi"
   ]
  },
  {
   "cell_type": "code",
   "execution_count": 25,
   "metadata": {},
   "outputs": [],
   "source": [
    "m = kipoi.get_model(\".\", source=\"dir\")  # See also python-sdk.ipynb"
   ]
  },
  {
   "cell_type": "code",
   "execution_count": 26,
   "metadata": {},
   "outputs": [
    {
     "name": "stderr",
     "output_type": "stream",
     "text": [
      "1it [00:00, 19.76it/s]\n"
     ]
    },
    {
     "data": {
      "text/plain": [
       "array([[ 2.6934, -1.2492, -0.3264],\n",
       "       [ 1.9716, -0.5734,  0.3457],\n",
       "       [ 2.5934, -0.9048, -0.0988],\n",
       "       [ 2.412 , -0.7207, -0.0533],\n",
       "       [ 2.9798, -1.4009, -0.5602]], dtype=float32)"
      ]
     },
     "execution_count": 26,
     "metadata": {},
     "output_type": "execute_result"
    }
   ],
   "source": [
    "m.pipeline.predict({\"features_file\": \"tmp/example_features.csv\", \"targets_file\": \"tmp/example_targets.csv\" })[:5]"
   ]
  },
  {
   "cell_type": "code",
   "execution_count": 27,
   "metadata": {},
   "outputs": [
    {
     "data": {
      "text/plain": [
       "ModelInfo(authors=[Author(name='Your Name', github='your_github_username', email='your_email@host.org')], doc='Model predicting the Iris species', name=None, version='0.1', license='MIT', tags=[], contributors=[], cite_as='https://doi.org:/...', trained_on='Iris species dataset (http://archive.ics.uci.edu/ml/datasets/Iris)', training_procedure=None)"
      ]
     },
     "execution_count": 27,
     "metadata": {},
     "output_type": "execute_result"
    }
   ],
   "source": [
    "m.info"
   ]
  },
  {
   "cell_type": "code",
   "execution_count": 28,
   "metadata": {},
   "outputs": [
    {
     "data": {
      "text/plain": [
       "kipoi.utils.OverriddenMyDataset"
      ]
     },
     "execution_count": 28,
     "metadata": {},
     "output_type": "execute_result"
    }
   ],
   "source": [
    "m.default_dataloader"
   ]
  },
  {
   "cell_type": "code",
   "execution_count": 29,
   "metadata": {},
   "outputs": [
    {
     "data": {
      "text/plain": [
       "<keras.engine.training.Model at 0x7ffa2a7d2198>"
      ]
     },
     "execution_count": 29,
     "metadata": {},
     "output_type": "execute_result"
    }
   ],
   "source": [
    "m.model"
   ]
  },
  {
   "cell_type": "code",
   "execution_count": 30,
   "metadata": {},
   "outputs": [
    {
     "data": {
      "text/plain": [
       "<bound method KerasModel.predict_on_batch of <kipoi.model.KerasModel object at 0x7ffa4c133198>>"
      ]
     },
     "execution_count": 30,
     "metadata": {},
     "output_type": "execute_result"
    }
   ],
   "source": [
    "m.predict_on_batch"
   ]
  },
  {
   "cell_type": "markdown",
   "metadata": {},
   "source": [
    "## Recap\n",
    "\n",
    "Congrats! You made it through the tutorial! Feel free to use this model for your model template. Alternatively, you can use `kipoi init` to setup a model directory. Make sure you have read the [getting started guide](http://kipoi.org/docs/contributing/01_Getting_started/) for contributing models."
   ]
  }
 ],
 "metadata": {
  "kernelspec": {
   "display_name": "Python [default]",
   "language": "python",
   "name": "python3"
  },
  "language_info": {
   "codemirror_mode": {
    "name": "ipython",
    "version": 3
   },
   "file_extension": ".py",
   "mimetype": "text/x-python",
   "name": "python",
   "nbconvert_exporter": "python",
   "pygments_lexer": "ipython3",
   "version": "3.6.1"
  }
 },
 "nbformat": 4,
 "nbformat_minor": 2
}
